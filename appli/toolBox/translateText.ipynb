{
 "cells": [
  {
   "cell_type": "code",
   "execution_count": 2,
   "metadata": {},
   "outputs": [],
   "source": [
    "from transformers import pipeline"
   ]
  },
  {
   "cell_type": "code",
   "execution_count": 3,
   "metadata": {},
   "outputs": [],
   "source": [
    "def create_model(from_lang, to_lang):\n",
    "    from_lang = \"en\"\n",
    "    to_lang = \"fr\"\n",
    "    task_to_do = \"translation_\"+from_lang+\"_to_\"+to_lang\n",
    "    model_to_import = \"Helsinki-NLP/opus-mt-\" + from_lang + \"-\" + to_lang\n",
    "    myModele = pipeline(task_to_do,\n",
    "                        model=model_to_import)\n",
    "    return myModele"
   ]
  }
 ],
 "metadata": {
  "kernelspec": {
   "display_name": "tf_devia",
   "language": "python",
   "name": "python3"
  },
  "language_info": {
   "codemirror_mode": {
    "name": "ipython",
    "version": 3
   },
   "file_extension": ".py",
   "mimetype": "text/x-python",
   "name": "python",
   "nbconvert_exporter": "python",
   "pygments_lexer": "ipython3",
   "version": "3.9.0"
  },
  "orig_nbformat": 4
 },
 "nbformat": 4,
 "nbformat_minor": 2
}
