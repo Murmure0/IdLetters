{
 "cells": [
  {
   "cell_type": "markdown",
   "metadata": {},
   "source": [
    "### Presentation : Structure\n",
    "\n",
    "1. Presentation personnelle\n",
    "2. Pres. globale du Projet\n",
    "3. Intro NLP & transformers \n",
    "4. Utilisation de l'appli : récuperation du texte dans le pdf\n",
    "5. Presentation du modèle : T5 + hugging face, utilisation de modèles préentrainés\n",
    "6. Data d'entrainements : \n",
    "    a. Comment on apprend a un modele a identifier du sens dans les phrases\n",
    "    b. dictionnaires & données de finetunning\n",
    "7. Exemples d'utilisations de l'app : diff pdf\n"
   ]
  },
  {
   "cell_type": "markdown",
   "metadata": {},
   "source": [
    "1. Presentation personnelle"
   ]
  },
  {
   "cell_type": "markdown",
   "metadata": {},
   "source": [
    "2. Presentation globale du projet\n",
    "\n",
    "Application sur smartphone de traducteur de lettres administratives, tapuscrites, pour facilité l'intégration de personnes \n",
    "\n",
    "BUT : Contenu sensible, pas d'envoie de données via internet\n",
    "\n",
    "Première version : Sur ordinateur : modèle un peu lourd, acquisition du texte via pdf scannée\n",
    "\n",
    "Amélioration :  \n",
    "- Récupération des données grâce à une photo directement prise par le smartphone \n",
    "- Modèle plus léger\n",
    "- Prévoir la langue de traduction au moment du téléchargement du modèle\n",
    "\n"
   ]
  }
 ],
 "metadata": {
  "language_info": {
   "name": "python"
  },
  "orig_nbformat": 4
 },
 "nbformat": 4,
 "nbformat_minor": 2
}
