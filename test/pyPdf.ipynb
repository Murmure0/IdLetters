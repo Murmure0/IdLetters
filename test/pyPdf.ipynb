{
 "cells": [
  {
   "cell_type": "code",
   "execution_count": 4,
   "metadata": {},
   "outputs": [
    {
     "name": "stdout",
     "output_type": "stream",
     "text": [
      "Votre droit aux allocations en tant que chômeur complet  travailleur à temps partiel volontaire\n",
      "BERTHET MAELLE\n",
      "890311/514-76\n",
      "Préfixe 03/53759/\n",
      "Numéro de téléphone du bureau : 02 209 13 1313/03/2023Exp. : Bureau de paiement de Bruxelles, Rue Des Plantes 69 , 1210 SAINT-JOSSE-TEN-NOODE\n",
      "BERTHET MAELLE\n",
      "RUE EMILE CLAUS 38/2\n",
      "1050  IXELLES\n",
      "Bonjour MAELLE BERTHET,\n",
      "Par cette lettre, nous vous informons de vos droits aux allocations en tant que chômeur complet  travailleur à\n",
      "temps partiel volontaire, à la suite de votre demande ou de votre déclaration d'un événement modificatif,\n",
      "prenant cours le 27/02/2023.\n",
      "En date du 09/03/2023, nous avons reçu la décision de l’ONEm.\n",
      "Quel est le montant de mon allocation ?\n",
      "Le montant journalier de votre demi-allocation s’élève à :\n",
      "À partir du 27/02/2023, 25.72 euros.\n",
      "Le montant est en principe octroyé pour tous les jours de la semaine, sauf les dimanches.\n",
      "Votre droit prend fin le 30/08/2023\n",
      "Votre droit a été établi tenant compte de votre situation familiale d'isolé.\n",
      "Contactez-nous le plus rapidement possible si celle-ci change.\n",
      "Tout changement desituation personnelle ouprofessionnelle oucelle d’unmembre devotre famille doitêtre\n",
      "spontanément et immédiatement signalé à la CAPAC.\n",
      "Vous avez droit enprincipe à7demi-allocations parsemaine :vous avez droit à2demi-allocation(s) pour le\n",
      "lundi, 1demi-allocation(s) pour lemardi, 1demi-allocation(s) pour lemercredi, 1demi-allocation(s) pour le\n",
      "jeudi, 1 demi-allocation(s) pour le vendredi et 1 demi-allocation(s) pour le samedi.\n",
      "En cas de reprise de travail, le nombre d’allocations sera cependant fixé sur une base mensuelle.\n",
      "Ces montants peuvent-ils encore changer ?\n",
      "Cesmontants peuvent changer après uneindexation, unchangement dans votre situation familiale, une\n",
      "reprise du travail, un changement réglementaire...\n",
      "Des retenues sont-elles effectuées ?\n",
      "Un précompte professionnel de 10,09% peut être retenu suivant votre situation familiale.\n",
      "1/2\n"
     ]
    }
   ],
   "source": [
    "from PyPDF2 import PdfReader\n",
    "\n",
    "reader = PdfReader(\"dec.pdf\")\n",
    "page = reader.pages[0]\n",
    "print(page.extract_text())"
   ]
  },
  {
   "cell_type": "code",
   "execution_count": null,
   "metadata": {},
   "outputs": [],
   "source": [
    "# extract only text oriented up\n",
    "print(page.extract_text(0))\n",
    "\n",
    "# extract text oriented up and turned left\n",
    "print(page.extract_text((0, 90)))"
   ]
  }
 ],
 "metadata": {
  "kernelspec": {
   "display_name": "algos_ml",
   "language": "python",
   "name": "python3"
  },
  "language_info": {
   "codemirror_mode": {
    "name": "ipython",
    "version": 3
   },
   "file_extension": ".py",
   "mimetype": "text/x-python",
   "name": "python",
   "nbconvert_exporter": "python",
   "pygments_lexer": "ipython3",
   "version": "3.11.3"
  },
  "orig_nbformat": 4
 },
 "nbformat": 4,
 "nbformat_minor": 2
}
