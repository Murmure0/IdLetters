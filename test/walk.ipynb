{
 "cells": [
  {
   "cell_type": "code",
   "execution_count": 8,
   "metadata": {},
   "outputs": [
    {
     "name": "stdout",
     "output_type": "stream",
     "text": [
      "['Abc.pdf', 'Accuse_de_reception_dune_demande_dallocations_3.pdf', 'Attestation_fiscale_3.pdf']\n"
     ]
    }
   ],
   "source": [
    "UPLOAD_FOLDER = \"uploads\"\n",
    "\n",
    "from os import walk\n",
    "lst_pdf = []\n",
    "for (repertoire, sousRepertoires, fichiers) in walk(UPLOAD_FOLDER):\n",
    "    lst_pdf.extend(fichiers)\n",
    "\n",
    "if lst_pdf:\n",
    "    print(lst_pdf)\n",
    "else:\n",
    "    print(\"no file found\")\n",
    "# lst_pdf"
   ]
  }
 ],
 "metadata": {
  "kernelspec": {
   "display_name": "algos_ml",
   "language": "python",
   "name": "python3"
  },
  "language_info": {
   "codemirror_mode": {
    "name": "ipython",
    "version": 3
   },
   "file_extension": ".py",
   "mimetype": "text/x-python",
   "name": "python",
   "nbconvert_exporter": "python",
   "pygments_lexer": "ipython3",
   "version": "3.11.3"
  },
  "orig_nbformat": 4
 },
 "nbformat": 4,
 "nbformat_minor": 2
}
