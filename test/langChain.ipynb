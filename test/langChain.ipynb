{
 "cells": [
  {
   "cell_type": "code",
   "execution_count": 4,
   "metadata": {},
   "outputs": [],
   "source": [
    "# LangChain : https://github.com/keitazoumana/Medium-Articles-Notebooks/blob/main/OCR_Content_Extraction.ipynb\n",
    "# pip install langchain\n"
   ]
  },
  {
   "cell_type": "code",
   "execution_count": 5,
   "metadata": {},
   "outputs": [],
   "source": [
    "\n",
    "\n",
    "from langchain.document_loaders import UnstructuredFileLoader\n",
    "\n",
    "def extract_text_with_langchain_pdf(pdf_file):\n",
    "    \n",
    "    loader = UnstructuredFileLoader(pdf_file)\n",
    "    documents = loader.load()\n",
    "    pdf_pages_content = '\\n'.join(doc.page_content for doc in documents)\n",
    "    \n",
    "    return pdf_pages_content\n"
   ]
  },
  {
   "cell_type": "code",
   "execution_count": 7,
   "metadata": {},
   "outputs": [
    {
     "name": "stdout",
     "output_type": "stream",
     "text": [
      "Rue de Brabant 62, 1210 BRUXELLES www.capac.fgov.be\n",
      "\n",
      "CAPAC Bruxelles Rue Des Plantes 69 1210 - Bruxelles T. 02 209 13 13\n",
      "\n",
      "Exp. :CAPAC Bruxelles - Rue Des Plantes 69 - 1210 Bruxelles\n",
      "\n",
      "MAELLE BERTHET RUE EMILE CLAUS 38 2 1050 IXELLES BELGIQUE\n",
      "\n",
      "Concerne : 89031151476 BERTHET MAELLE\n",
      "\n",
      "FICHE FISCALE\n",
      "\n",
      "Chère Madame, Cher Monsieur,\n",
      "\n",
      "Par la présente, nous vous transmettons les données dont vous avez besoin pour compléter votre déclaration d'impôt.\n",
      "\n",
      "Si vous recevez plus d'une lettre, c’est par suite de:\n",
      "\n",
      "votre déménagement dans le ressort d'un autre bureau de la CAPAC; - ou au fait que pour 2022, vous avez perçu tant des allocations de chômage que des montants d'une autre nature.\n",
      "\n",
      "Pour plus d’information, vous pouvez vous adresser à votre bureau de la CAPAC, dont coordonnées ci-dessus.\n",
      "\n",
      "Important: veuillez indiquer votre numéro de registre national ( 89031151476 ) lors de tout contact avec nos services. À défaut, votre dossier ne pourra être traité.\n",
      "\n",
      "DONNÉES FISCALES Les données ci-dessous vous permettent de compléter votre déclaration d'impôt relative aux revenus de 2022. Tous les montants concernent des allocations de prépension payées ou récupérées en 2022. Les allocations se rapportant à décembre 2021 qui ont été payées avant le 11 janvier 2022 ne sont plus reprises car elles avaient déjà été reprises sur votre fiche fiscale de 2021. Les allocations de décembre 2022 sont reprises sur la présente fiche fiscale si elles ont été payées avant le 11/1/2023. Veuillez reprendre les montants positifs mentionnés aux cadres 21 à 25 (ou codes 260 à 263) sous la rubrique correspondante de votre formulaire de déclaration. Si des montants négatifs sont repris dans les cadres 27 à 28, lisez l’avis des Finances au verso.\n",
      "\n",
      "Fiche N° 281.13 Allocations de chômage (1)\n",
      "\n",
      "N° 08530\n",
      "\n",
      "1\n",
      "\n",
      "Soldes positifs à déclarer\n",
      "\n",
      "Solde Négatif (1)\n",
      "\n",
      "Arriérés taxables distinctement\n",
      "\n",
      "Arriérés taxables distinctement\n",
      "\n",
      "Allocations\n",
      "\n",
      "Nature\n",
      "\n",
      "Allocations\n",
      "\n",
      "Montant payé ou attribué en 2022\n",
      "\n",
      "a) Chômage\n",
      "\n",
      "9\n",
      "\n",
      "15\n",
      "\n",
      "21\n",
      "\n",
      "24\n",
      "\n",
      "27\n",
      "\n",
      "7750,90\n",
      "\n",
      "sans complément d'anciennet\n",
      "\n",
      "45,68\n",
      "\n",
      "7750,90\n",
      "\n",
      "45,68\n",
      "\n",
      "260\n",
      "\n",
      "261\n",
      "\n",
      "Montant récupéré en 2022\n",
      "\n",
      "10\n",
      "\n",
      "16\n",
      "\n",
      "Jours :\n",
      "\n",
      "Montant payé ou attribué en 2022\n",
      "\n",
      "a) Chômage\n",
      "\n",
      "11\n",
      "\n",
      "17\n",
      "\n",
      "22\n",
      "\n",
      "25\n",
      "\n",
      "28\n",
      "\n",
      "avec droit au complément d'anciennet\n",
      "\n",
      "264\n",
      "\n",
      "265\n",
      "\n",
      "Montant récupéré en 2022\n",
      "\n",
      "12\n",
      "\n",
      "18\n",
      "\n",
      "Jours :\n",
      "\n",
      "31.Précompte professionnel : 4,60\n",
      "\n",
      "286 8. NISS : 89031151476\n",
      "\n",
      "33. N° de réf. O.P. : 206732536\n",
      "\n",
      "(1) Voir avis important pour les bénéficiaires des revenus au verso\n",
      "\n",
      "Lire au verso\n",
      "\n",
      "AVIS IMPORTANT DU SERVICE PUBLIC FEDERAL FINANCES AUX BÉNÉFICIAIRES DES REVENUS\n",
      "\n",
      "Vous devez reprendre les soldes positifs (cadres 21 à 25) dans votre déclaration à l'impôt des personnes physiques ou à l'impôt des non-résidents. Par contre, les soldes négatifs mentionnés aux cadres 27 à 28 doivent être déduits des allocations de chômage éventuellement perçues au cours de la même année et qui sont reprises sur d'autres fiches 281.13. Cette déduction doit être effectuée d’abord des arriérés taxables distinctement (repris aux cadres 24 et 25 des autres fiches) et ensuite des allocations (reprises aux cadres 21 et 22 des autres fiches). Si ces soldes négatifs ne peuvent pas être déduits ou s'ils ne peuvent l'être que partiellement, vous le signalez à votre service de taxation dans une annexe jointe à votre déclaration; ce service procédera aux imputations nécessaires sur les allocations de même nature perçues au cours d’une ou de plusieurs années antérieures. Dans votre propre intérêt, il est souhaitable que vous conserviez cette fiche. Elle ne doit pas être jointe à la déclaration à l'impôt des personnes physiques ou à l'impôt des non-résidents. »\n",
      "\n",
      "ORG/FISC/2021. 281.13FR\n"
     ]
    }
   ],
   "source": [
    "text_with_langchain_files = extract_text_with_langchain_pdf(\"uploads/Abc.pdf\")\n",
    "print(text_with_langchain_files)"
   ]
  },
  {
   "cell_type": "code",
   "execution_count": null,
   "metadata": {},
   "outputs": [
    {
     "name": "stdout",
     "output_type": "stream",
     "text": [
      "['c:\\\\Users\\\\admindc\\\\Desktop\\\\finalProject\\\\test', 'c:\\\\Users\\\\admindc\\\\anaconda3\\\\envs\\\\algos_ml\\\\python311.zip', 'c:\\\\Users\\\\admindc\\\\anaconda3\\\\envs\\\\algos_ml\\\\DLLs', 'c:\\\\Users\\\\admindc\\\\anaconda3\\\\envs\\\\algos_ml\\\\Lib', 'c:\\\\Users\\\\admindc\\\\anaconda3\\\\envs\\\\algos_ml', '', 'C:\\\\Users\\\\admindc\\\\AppData\\\\Roaming\\\\Python\\\\Python311\\\\site-packages', 'c:\\\\Users\\\\admindc\\\\anaconda3\\\\envs\\\\algos_ml\\\\Lib\\\\site-packages', 'c:\\\\Users\\\\admindc\\\\anaconda3\\\\envs\\\\algos_ml\\\\Lib\\\\site-packages\\\\win32', 'c:\\\\Users\\\\admindc\\\\anaconda3\\\\envs\\\\algos_ml\\\\Lib\\\\site-packages\\\\win32\\\\lib', 'c:\\\\Users\\\\admindc\\\\anaconda3\\\\envs\\\\algos_ml\\\\Lib\\\\site-packages\\\\Pythonwin', 'c:\\\\Users\\\\berth\\\\anaconda3\\\\envs\\\\translator\\\\lib\\\\site-packages\\\\langchain\\\\document_loaders\\\\unstructured.py']\n"
     ]
    }
   ],
   "source": [
    "# import sys\n",
    "# print(sys.path)"
   ]
  },
  {
   "cell_type": "code",
   "execution_count": null,
   "metadata": {},
   "outputs": [],
   "source": [
    "unstruc_path = \"c:\\\\Users\\\\berth\\\\anaconda3\\\\envs\\\\translator\\\\lib\\\\site-packages\\\\langchain\\\\document_loaders\\\\unstructured.py\""
   ]
  },
  {
   "cell_type": "code",
   "execution_count": null,
   "metadata": {},
   "outputs": [],
   "source": [
    "# sys.path.append(unstruc_path)\n"
   ]
  },
  {
   "cell_type": "code",
   "execution_count": 3,
   "metadata": {},
   "outputs": [
    {
     "ename": "TypeError",
     "evalue": "a bytes-like object is required, not 'str'",
     "output_type": "error",
     "traceback": [
      "\u001b[1;31m---------------------------------------------------------------------------\u001b[0m",
      "\u001b[1;31mTypeError\u001b[0m                                 Traceback (most recent call last)",
      "Cell \u001b[1;32mIn[3], line 19\u001b[0m\n\u001b[0;32m     16\u001b[0m     image_content\u001b[39m.\u001b[39mappend(raw_text)\n\u001b[0;32m     18\u001b[0m     \u001b[39mreturn\u001b[39;00m \u001b[39m\"\u001b[39m\u001b[39m\\n\u001b[39;00m\u001b[39m\"\u001b[39m\u001b[39m.\u001b[39mjoin(image_content)\n\u001b[1;32m---> 19\u001b[0m text_with_langchain_image \u001b[39m=\u001b[39m extract_text_with_langchain_image(\u001b[39m'\u001b[39m\u001b[39mimgTest.jpg\u001b[39m\u001b[39m'\u001b[39m)\n\u001b[0;32m     20\u001b[0m \u001b[39mprint\u001b[39m(text_with_langchain_image)\n",
      "Cell \u001b[1;32mIn[3], line 11\u001b[0m, in \u001b[0;36mextract_text_with_langchain_image\u001b[1;34m(imgTest)\u001b[0m\n\u001b[0;32m      7\u001b[0m image_content \u001b[39m=\u001b[39m []\n\u001b[0;32m      9\u001b[0m \u001b[39m# for index, image_bytes in enumerate(image_list):\u001b[39;00m\n\u001b[1;32m---> 11\u001b[0m image \u001b[39m=\u001b[39m Image\u001b[39m.\u001b[39mopen(BytesIO(imgTest))\n\u001b[0;32m     12\u001b[0m loader \u001b[39m=\u001b[39m UnstructuredImageLoader(image)\n\u001b[0;32m     13\u001b[0m data \u001b[39m=\u001b[39m loader\u001b[39m.\u001b[39mload()\n",
      "\u001b[1;31mTypeError\u001b[0m: a bytes-like object is required, not 'str'"
     ]
    }
   ],
   "source": [
    "from langchain.document_loaders.image import UnstructuredImageLoader\n",
    "from io import BytesIO\n",
    "import PIL.Image as Image\n",
    "\n",
    "def extract_text_with_langchain_image(imgTest):\n",
    "    \n",
    "    # image_list = [list(data.values())[0] for data in imgTest]\n",
    "    image_content = []\n",
    "    \n",
    "    # for index, image_bytes in enumerate(image_list):\n",
    "        \n",
    "    image = Image.open(BytesIO(imgTest))\n",
    "    loader = UnstructuredImageLoader(image)\n",
    "    data = loader.load()\n",
    "    raw_text = data.page_content\n",
    "                    \n",
    "    image_content.append(raw_text)\n",
    "    \n",
    "    return \"\\n\".join(image_content)\n",
    "text_with_langchain_image = extract_text_with_langchain_image('imgTest.jpg')\n",
    "print(text_with_langchain_image)\n"
   ]
  },
  {
   "cell_type": "code",
   "execution_count": 1,
   "metadata": {},
   "outputs": [
    {
     "name": "stderr",
     "output_type": "stream",
     "text": [
      "c:\\Users\\admindc\\anaconda3\\envs\\algos_ml\\Lib\\site-packages\\numpy\\_distributor_init.py:30: UserWarning: loaded more than 1 DLL from .libs:\n",
      "c:\\Users\\admindc\\anaconda3\\envs\\algos_ml\\Lib\\site-packages\\numpy\\.libs\\libopenblas64__v0.3.21-gcc_10_3_0.dll\n",
      "c:\\Users\\admindc\\anaconda3\\envs\\algos_ml\\Lib\\site-packages\\numpy\\.libs\\libopenblas64__v0.3.23-246-g3d31191b-gcc_10_3_0.dll\n",
      "  warnings.warn(\"loaded more than 1 DLL from .libs:\"\n"
     ]
    }
   ],
   "source": [
    "from langchain.document_loaders.image import UnstructuredImageLoader"
   ]
  },
  {
   "cell_type": "code",
   "execution_count": 5,
   "metadata": {},
   "outputs": [],
   "source": [
    "loader = UnstructuredImageLoader(\"imgTestOnem.jpg\")"
   ]
  },
  {
   "cell_type": "code",
   "execution_count": 6,
   "metadata": {},
   "outputs": [],
   "source": [
    "data = loader.load()"
   ]
  },
  {
   "cell_type": "code",
   "execution_count": 10,
   "metadata": {},
   "outputs": [
    {
     "data": {
      "text/plain": [
       "\"IMISYITLITICHY | es\\n\\nGE SECURITE SOCIALE\\n\\n: Bureau de ent de Bruxelles, Rue Des Plantes 69, 1210 SAINT.JOSSE-TEN-NOt\\n\\nBERTHET MAELLE\\n\\nRUE EMILE CLAUS 38/2\\n\\n1050 IXELLES\\n\\nBERTHET MAELLE\\n\\n890311/514\\n\\n\\n\\n76\\n\\nPréfixe 03/53759/\\n\\nNuméro de téléphone du bureau : 02 209 13 13 13/03/2023\\n\\nVotre droit aux allocations en tant que chémeur complet travailleur a temps partiel volontaire Bonjour MAELLE BERTHET,\\n\\nPar cette lettre, nous vous informons de vos droits aux allocations en tant que ch6meur complet travailleur a\\n\\ntemps partiel volontaire, a la sulte de votre demande ou de votre déclaration d'un événement modificatif, prenant cours le 27/02/2023.\\n\\nEn date du 09/03/2023, nous avons recu la décision de I'ONEm. Quel est le montant de mon allocation ?\\n\\nLe montant journalier de votre demi-allocation s‘éléve a : A partir du 27/02/2023, 25.72 euros.\\n\\nLe montant est en principe octroyé pour tous les jours de la semaine, sauf les dimanches. Votre droit prend fin le 30/08/2023\\n\\nVotre droit a été établi er compte de votre situation familiale d'isolé. Contactez-nous le plus rapidement possible si celle-ci change. '\\n\\n_ Tout changement de situation personnelle ou bale sings ou celle d‘ ‘un membre de votre famille doit étre\\n\\nLee plier et immédiatement signalé a Mi ICAHAGs ke\\n\\nvas nee SA a 2 dem/-aicaton(s) pour le\\n\\natt\""
      ]
     },
     "execution_count": 10,
     "metadata": {},
     "output_type": "execute_result"
    }
   ],
   "source": [
    "data[0].page_content"
   ]
  },
  {
   "cell_type": "markdown",
   "metadata": {},
   "source": [
    "pip install pdfminer\n",
    "unstructured_inference is not installed, pytesseract is not installed and the text of the PDF is not extractable. To process this file, install unstructured_inference, install pytesseract, or remove copy protection from the PDF"
   ]
  },
  {
   "cell_type": "code",
   "execution_count": 13,
   "metadata": {},
   "outputs": [
    {
     "name": "stdout",
     "output_type": "stream",
     "text": [
      "c:\\Users\\admindc\\anaconda3\\envs\\algos_ml\\Lib\\site-packages\\numpy\\__init__.py\n",
      "<class 'numpy.ndarray'>\n"
     ]
    }
   ],
   "source": [
    "import numpy as np\n",
    "print(np.__file__)\n",
    "print(np.ndarray)\n"
   ]
  }
 ],
 "metadata": {
  "kernelspec": {
   "display_name": "translator",
   "language": "python",
   "name": "python3"
  },
  "language_info": {
   "codemirror_mode": {
    "name": "ipython",
    "version": 3
   },
   "file_extension": ".py",
   "mimetype": "text/x-python",
   "name": "python",
   "nbconvert_exporter": "python",
   "pygments_lexer": "ipython3",
   "version": "3.11.3"
  },
  "orig_nbformat": 4
 },
 "nbformat": 4,
 "nbformat_minor": 2
}
