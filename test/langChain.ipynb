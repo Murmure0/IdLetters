{
 "cells": [
  {
   "cell_type": "code",
   "execution_count": 1,
   "metadata": {},
   "outputs": [],
   "source": [
    "# LangChain : https://github.com/keitazoumana/Medium-Articles-Notebooks/blob/main/OCR_Content_Extraction.ipynb\n",
    "# pip install langchain\n"
   ]
  },
  {
   "cell_type": "code",
   "execution_count": 2,
   "metadata": {},
   "outputs": [],
   "source": [
    "# from langchain.document_loaders.image import UnstructuredImageLoader\n",
    "\n",
    "# def extract_text_with_langchain_image(list_dict_final_images):\n",
    "    \n",
    "#     image_list = [list(data.values())[0] for data in list_dict_final_images]\n",
    "#     image_content = []\n",
    "    \n",
    "#     for index, image_bytes in enumerate(image_list):\n",
    "        \n",
    "#         image = Image.open(BytesIO(image_bytes))\n",
    "#         loader = UnstructuredImageLoader(image)\n",
    "#         data = loader.load()\n",
    "#         raw_text = data[index].page_content\n",
    "                       \n",
    "#         image_content.append(raw_text)\n",
    "    \n",
    "#     return \"\\n\".join(image_content)\n",
    "# text_with_langchain_image = extract_text_with_langchain_image(convert_pdf_to_images)\n",
    "# print(text_with_langchain_image)\n",
    "\n",
    "\n",
    "from langchain.document_loaders import UnstructuredFileLoader\n",
    "\n",
    "def extract_text_with_langchain_pdf(pdf_file):\n",
    "    \n",
    "    loader = UnstructuredFileLoader(pdf_file)\n",
    "    documents = loader.load()\n",
    "    pdf_pages_content = '\\n'.join(doc.page_content for doc in documents)\n",
    "    \n",
    "    return pdf_pages_content\n"
   ]
  },
  {
   "cell_type": "code",
   "execution_count": 3,
   "metadata": {},
   "outputs": [
    {
     "name": "stderr",
     "output_type": "stream",
     "text": [
      "[nltk_data] Downloading package punkt to\n",
      "[nltk_data]     C:\\Users\\berth\\AppData\\Roaming\\nltk_data...\n",
      "[nltk_data]   Unzipping tokenizers\\punkt.zip.\n",
      "[nltk_data] Downloading package averaged_perceptron_tagger to\n",
      "[nltk_data]     C:\\Users\\berth\\AppData\\Roaming\\nltk_data...\n",
      "[nltk_data]   Unzipping taggers\\averaged_perceptron_tagger.zip.\n"
     ]
    },
    {
     "name": "stdout",
     "output_type": "stream",
     "text": [
      "Exp. : Bureau de paiement de Bruxelles, Rue Des Plantes 69, 1210 SAINT-JOSSE-TEN-NOODE\n",
      "\n",
      "BERTHET MAELLE\n",
      "\n",
      "RUE EMILE CLAUS 38/2\n",
      "\n",
      "1050 IXELLES\n",
      "\n",
      "BERTHET MAELLE\n",
      "\n",
      "890311/514-76\n",
      "\n",
      "Préfixe 03/53759/\n",
      "\n",
      "Numéro de téléphone du bureau : 02 209 13 13\n",
      "\n",
      "13/03/2023\n",
      "\n",
      "Votre droit aux allocations en tant que chômeur complet travailleur à temps partiel volontaire\n",
      "\n",
      "Bonjour MAELLE BERTHET,\n",
      "\n",
      "Par cette lettre, nous vous informons de vos droits aux allocations en tant que chômeur complet travailleur à temps partiel volontaire, à la suite de votre demande ou de votre déclaration d'un événement modificatif, prenant cours le 27/02/2023. En date du 09/03/2023, nous avons reçu la décision de l’ONEm.\n",
      "\n",
      "Quel est le montant de mon allocation ?\n",
      "\n",
      "Le montant journalier de votre demi-allocation s’élève à :\n",
      "\n",
      "À partir du 27/02/2023, 25.72 euros.\n",
      "\n",
      "Le montant est en principe octroyé pour tous les jours de la semaine, sauf les dimanches.\n",
      "\n",
      "Votre droit prend fin le 30/08/2023\n",
      "\n",
      "Votre droit a été établi tenant compte de votre situation familiale d'isolé.\n",
      "\n",
      "Contactez-nous le plus rapidement possible si celle-ci change.\n",
      "\n",
      "Tout changement de situation personnelle ou professionnelle ou celle d’un membre de votre famille doit être spontanément et immédiatement signalé à la CAPAC.\n",
      "\n",
      "Vous avez droit en principe à 7 demi-allocations par semaine : vous avez droit à 2 demi-allocation(s) pour le lundi, 1 demi-allocation(s) pour le mardi, 1 demi-allocation(s) pour le mercredi, 1 demi-allocation(s) pour le jeudi, 1 demi-allocation(s) pour le vendredi et 1 demi-allocation(s) pour le samedi.\n",
      "\n",
      "En cas de reprise de travail, le nombre d’allocations sera cependant fixé sur une base mensuelle.\n",
      "\n",
      "Ces montants peuvent-ils encore changer ?\n",
      "\n",
      "Ces montants peuvent changer après une indexation, un changement dans votre situation familiale, une reprise du travail, un changement réglementaire...\n",
      "\n",
      "Des retenues sont-elles effectuées ?\n",
      "\n",
      "Un précompte professionnel de 10,09% peut être retenu suivant votre situation familiale.\n",
      "\n",
      "1/2\n",
      "\n",
      "Comment obtenir mes allocations ?\n",
      "\n",
      "Introduisez votre carte de contrôle auprès de la CAPAC à la fin du mois.\n",
      "\n",
      "Le montant des allocations pour un mois dépend du respect des conditions d'octroi décrites sur la carte de contrôle.\n",
      "\n",
      "Plus d’informations\n",
      "\n",
      "Pour de plus amples informations concernant vos droits et obligations et les événements qui influencent votre statut, consultez le document d’information disponible sur le site de l’ONEm (www.onem.be, feuilles info T31 et 39). Vous pouvez obtenir de plus amples informations concernant cette lettre auprès de la CAPAC de Bruxelles (voir adresse en haut de cette lettre). Vous trouverez également des informations sur les sites Internet de l’ONEm (www.onem.be) et de la CAPAC (www.hvw-capac.fgov.be)1.\n",
      "\n",
      "Cordialement,\n",
      "\n",
      "Pour la CAPAC Pour l’ONEm\n",
      "\n",
      "Que faire si je ne suis pas d’accord avec la décision de l’ONEm ?\n",
      "\n",
      "Avant tout, renseignez-vous auprès de votre bureau CAPAC. Si après cela, vous n’êtes toujours pas d’accord avec la décision de l’ONEm, vous pouvez introduire un recours auprès du tribunal du travail en adressant une requête écrite par recommandé ou en la déposant directement au greffe du tribunal du travail PLACE POELAERT BTE 3 1000 BRUXELLES.\n",
      "\n",
      "À compter de la notification de cette décision, vous disposez de 3 mois pour introduire cette requête.\n",
      "\n",
      "N’oubliez pas de mentionner votre n° NISS et la date de la demande , de signer et dater votre requête. Vous avez la possibilité de comparaître personnellement devant le tribunal ou de vous faire représenter par un avocat, un délégué syndical votre conjoint, ou certains parents ou alliés s’ils sont agréés par le juge. En principe, vous ne devez pas supporter les frais du procès.\n",
      "\n",
      "Comment conserver votre droit aux allocations si vous introduisez un recours?\n",
      "\n",
      "Pour permettre une éventuelle indemnisation ultérieure, vous devez respecter l’ensemble des conditions d’octroi durant toute la période de procédure de recours. Vous devez notamment être et rester inscrit comme demandeur d’emploi (sauf si vous avez une dispense). Vous devez également continuer à compléter et à conserver vos cartes de contrôle papier. Si vous utilisez la carte de contrôle électronique, vous devez continuer à la compléter et à la confirmer. Si le tribunal du travail vous donne raison, vous devez introduire votre (vos) carte(s) de contrôle auprès de la CAPAC (sauf si vous l’avez déjà fait). Les allocations vous seront alors versées pour cette (ces) période(s).\n",
      "\n",
      "1 Les principales dispositions légales applicables se trouvent dans l’arrêté royal du 25.11.1991 et l’arrêté ministériel du 26.11.1991 portant réglementation du chômage.\n",
      "\n",
      "Pour tous les renseignements pratiques, surfez sur www.capac.fgov.be. Dans votre dossier en ligne « Mon dossier CAPAC »\n",
      "\n",
      "vous trouverez les informations concernant votre dossier et votre dernier paiement\n",
      "\n",
      "vous pouvez modifier vos coordonnées\n",
      "\n",
      "vous pouvez demander et imprimer des attestations\n",
      "\n",
      "2/2\n"
     ]
    }
   ],
   "source": [
    "text_with_langchain_files = extract_text_with_langchain_pdf(\"dec.pdf\")\n",
    "print(text_with_langchain_files)"
   ]
  },
  {
   "cell_type": "code",
   "execution_count": 4,
   "metadata": {},
   "outputs": [],
   "source": [
    "# import sys\n",
    "# print(sys.path)"
   ]
  },
  {
   "cell_type": "code",
   "execution_count": 5,
   "metadata": {},
   "outputs": [],
   "source": [
    "# unstruc_path = \"c:\\\\Users\\\\berth\\\\anaconda3\\\\envs\\\\translator\\\\lib\\\\site-packages\\\\langchain\\\\document_loaders\\\\unstructured.py\""
   ]
  },
  {
   "cell_type": "code",
   "execution_count": 6,
   "metadata": {},
   "outputs": [],
   "source": [
    "# sys.path.append(unstruc_path)\n"
   ]
  }
 ],
 "metadata": {
  "kernelspec": {
   "display_name": "translator",
   "language": "python",
   "name": "python3"
  },
  "language_info": {
   "codemirror_mode": {
    "name": "ipython",
    "version": 3
   },
   "file_extension": ".py",
   "mimetype": "text/x-python",
   "name": "python",
   "nbconvert_exporter": "python",
   "pygments_lexer": "ipython3",
   "version": "3.9.17"
  },
  "orig_nbformat": 4
 },
 "nbformat": 4,
 "nbformat_minor": 2
}
