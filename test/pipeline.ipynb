{
 "cells": [
  {
   "cell_type": "code",
   "execution_count": 1,
   "metadata": {},
   "outputs": [],
   "source": [
    "# pip install transformers[sentencepiece]"
   ]
  },
  {
   "cell_type": "code",
   "execution_count": 2,
   "metadata": {},
   "outputs": [],
   "source": [
    "# pip install sacremoses"
   ]
  },
  {
   "cell_type": "code",
   "execution_count": 3,
   "metadata": {},
   "outputs": [],
   "source": [
    "from transformers import pipeline"
   ]
  },
  {
   "cell_type": "code",
   "execution_count": 4,
   "metadata": {},
   "outputs": [],
   "source": [
    "en_to_fr = pipeline(\"translation_en_to_fr\",\n",
    "                    model=\"Helsinki-NLP/opus-mt-en-fr\")"
   ]
  },
  {
   "cell_type": "code",
   "execution_count": 5,
   "metadata": {},
   "outputs": [
    {
     "data": {
      "text/plain": [
       "[{'translation_text': \"J'aime vraiment ton style.\"}]"
      ]
     },
     "execution_count": 5,
     "metadata": {},
     "output_type": "execute_result"
    }
   ],
   "source": [
    "en_to_fr(\"I really like your style\")"
   ]
  },
  {
   "cell_type": "code",
   "execution_count": 6,
   "metadata": {},
   "outputs": [],
   "source": [
    "fr_to_en = pipeline('translation_fr_to_en',\n",
    "                    model = \"Helsinki-NLP/opus-mt-fr-en\")"
   ]
  },
  {
   "cell_type": "code",
   "execution_count": 11,
   "metadata": {},
   "outputs": [],
   "source": [
    "ret = fr_to_en(\"Votre droit aux allocations en tant que chômeur complet travailleur à temps partiel volontaire.Bonjour MAELLE BERTHET,Par cette lettre, nous vous informons de vos droits aux allocations en tant que chômeur complet travailleur à temps partiel volontaire, à la suite de votre demande ou de votre déclaration d'un événement modificatif, prenant cours le 10/12/2022.\")"
   ]
  },
  {
   "cell_type": "code",
   "execution_count": 15,
   "metadata": {},
   "outputs": [
    {
     "data": {
      "text/plain": [
       "'Your entitlement to benefits as a full-time, voluntary part-time worker.Hello MAELLE BERTHET,By this letter, we inform you of your entitlement to benefits as a full-time, voluntary part-time worker, following your request or declaration of an amending event, taking place on 10/12/2022.'"
      ]
     },
     "execution_count": 15,
     "metadata": {},
     "output_type": "execute_result"
    }
   ],
   "source": [
    "ret[0]['translation_text']"
   ]
  },
  {
   "cell_type": "code",
   "execution_count": 10,
   "metadata": {},
   "outputs": [
    {
     "data": {
      "application/vnd.jupyter.widget-view+json": {
       "model_id": "8e207799296f493eb04e8f36a8b7420c",
       "version_major": 2,
       "version_minor": 0
      },
      "text/plain": [
       "Downloading (…)lve/main/config.json:   0%|          | 0.00/1.42k [00:00<?, ?B/s]"
      ]
     },
     "metadata": {},
     "output_type": "display_data"
    },
    {
     "name": "stderr",
     "output_type": "stream",
     "text": [
      "c:\\Users\\admindc\\anaconda3\\envs\\tf_devia\\lib\\site-packages\\huggingface_hub\\file_download.py:133: UserWarning: `huggingface_hub` cache-system uses symlinks by default to efficiently store duplicated files but your machine does not support them in C:\\Users\\admindc\\.cache\\huggingface\\hub. Caching files will still work but in a degraded version that might require more space on your disk. This warning can be disabled by setting the `HF_HUB_DISABLE_SYMLINKS_WARNING` environment variable. For more details, see https://huggingface.co/docs/huggingface_hub/how-to-cache#limitations.\n",
      "To support symlinks on Windows, you either need to activate Developer Mode or to run Python as an administrator. In order to see activate developer mode, see this article: https://docs.microsoft.com/en-us/windows/apps/get-started/enable-your-device-for-development\n",
      "  warnings.warn(message)\n"
     ]
    },
    {
     "data": {
      "application/vnd.jupyter.widget-view+json": {
       "model_id": "924fd2a5f0af4b87983b374cb09975f6",
       "version_major": 2,
       "version_minor": 0
      },
      "text/plain": [
       "Downloading pytorch_model.bin:   0%|          | 0.00/2.28G [00:00<?, ?B/s]"
      ]
     },
     "metadata": {},
     "output_type": "display_data"
    },
    {
     "data": {
      "application/vnd.jupyter.widget-view+json": {
       "model_id": "b5bcebba6b674084905d0ba402b73bdc",
       "version_major": 2,
       "version_minor": 0
      },
      "text/plain": [
       "Downloading (…)okenizer_config.json:   0%|          | 0.00/1.61k [00:00<?, ?B/s]"
      ]
     },
     "metadata": {},
     "output_type": "display_data"
    },
    {
     "data": {
      "application/vnd.jupyter.widget-view+json": {
       "model_id": "4871db00d464454f8fef192062271007",
       "version_major": 2,
       "version_minor": 0
      },
      "text/plain": [
       "Downloading spiece.model:   0%|          | 0.00/1.91M [00:00<?, ?B/s]"
      ]
     },
     "metadata": {},
     "output_type": "display_data"
    },
    {
     "data": {
      "application/vnd.jupyter.widget-view+json": {
       "model_id": "cc667252125e477db7e81da9fa314343",
       "version_major": 2,
       "version_minor": 0
      },
      "text/plain": [
       "Downloading (…)cial_tokens_map.json:   0%|          | 0.00/1.34k [00:00<?, ?B/s]"
      ]
     },
     "metadata": {},
     "output_type": "display_data"
    }
   ],
   "source": [
    "summarize = pipeline(\"summarization\",\n",
    "                     model=\"tuner007/pegasus_summarizer\")\n",
    "                    #  model=\"joelito/plain_english_contracts_summarization\")"
   ]
  },
  {
   "cell_type": "code",
   "execution_count": 16,
   "metadata": {},
   "outputs": [
    {
     "name": "stdout",
     "output_type": "stream",
     "text": [
      "('Your entitlement to benefits as a full-time, voluntary part-time '\n",
      " 'worker.Hello MAELLE BERTHET,By this letter, we inform you of your '\n",
      " 'entitlement to benefits as a full-time, voluntary part-time worker, '\n",
      " 'following your request or declaration of an amending event, taking place on '\n",
      " '10/12/2022.')\n"
     ]
    }
   ],
   "source": [
    "import pprint\n",
    "\n",
    "pprint.pprint(ret[0]['translation_text'])"
   ]
  },
  {
   "cell_type": "code",
   "execution_count": 18,
   "metadata": {},
   "outputs": [
    {
     "data": {
      "text/plain": [
       "[{'summary_text': 'By this letter, we inform you of your entitlement to benefits as a full-time, voluntary part-time worker, following your request or declaration of an'}]"
      ]
     },
     "execution_count": 18,
     "metadata": {},
     "output_type": "execute_result"
    }
   ],
   "source": [
    "summarize(ret[0]['translation_text'], max_length=33)"
   ]
  },
  {
   "cell_type": "code",
   "execution_count": 21,
   "metadata": {},
   "outputs": [
    {
     "ename": "SyntaxError",
     "evalue": "EOL while scanning string literal (3970498777.py, line 1)",
     "output_type": "error",
     "traceback": [
      "\u001b[1;36m  Cell \u001b[1;32mIn[21], line 1\u001b[1;36m\u001b[0m\n\u001b[1;33m    def remove_n(line=\"Madame, La CAPAC de BRUXELLES a reçu votre courrier le 28/12/2022 pour la demande suivante : Je termine une formation professionnelle à partir du 10/12/2022. Vous avez remis ou rempli sur place les documents suivants\u001b[0m\n\u001b[1;37m                                                                                                                                                                                                                                               ^\u001b[0m\n\u001b[1;31mSyntaxError\u001b[0m\u001b[1;31m:\u001b[0m EOL while scanning string literal\n"
     ]
    }
   ],
   "source": [
    "def remove_n(line):\n",
    "    return line.replace(\"\\n\", \" \")\n",
    "    "
   ]
  },
  {
   "cell_type": "code",
   "execution_count": 24,
   "metadata": {},
   "outputs": [],
   "source": [
    "line = '''Madame, La CAPAC de BRUXELLES a reçu votre courrier le 28/12/2022 pour la demande suivante : Je termine une formation professionnelle à partir du 10/12/2022. Vous avez remis ou rempli sur place les documents suivants\n",
    "C91\n",
    "Vous devez nous fournir les documents suivants\n",
    "(sous réserve de demandes complémentaires suite au contrôle de l'ONEM)\n",
    "Aucun autre formulaire ne vous est actuellement réclamé. Si, après l'examen des documents électroniques\n",
    "nécessaires à votre dossier, celui-ci est considéré comme valable, il sera aussitôt transmis à l'Onem. Dans le cas\n",
    "contraire, un courrier complémentaire vous sera adressé dans les prochains jours.\n",
    "ATTENTION : Toute introduction tardive peut conduire à un retard dans les paiements ou à la perte des allocations. L'ONEM ne peut décider de\n",
    "votre droit à des allocations que si votre dossier est complet. Ce n'est qu'après approbation de l'ONEM que la CAPAC vous paiera.\n",
    "Votre inscription en tant que demandeur d'emploi\n",
    "Vous ne devez pas vous réinscrire.'''"
   ]
  },
  {
   "cell_type": "code",
   "execution_count": 25,
   "metadata": {},
   "outputs": [
    {
     "data": {
      "text/plain": [
       "\"Madame, La CAPAC de BRUXELLES a reçu votre courrier le 28/12/2022 pour la demande suivante : Je termine une formation professionnelle à partir du 10/12/2022. Vous avez remis ou rempli sur place les documents suivants C91 Vous devez nous fournir les documents suivants (sous réserve de demandes complémentaires suite au contrôle de l'ONEM) Aucun autre formulaire ne vous est actuellement réclamé. Si, après l'examen des documents électroniques nécessaires à votre dossier, celui-ci est considéré comme valable, il sera aussitôt transmis à l'Onem. Dans le cas contraire, un courrier complémentaire vous sera adressé dans les prochains jours. ATTENTION : Toute introduction tardive peut conduire à un retard dans les paiements ou à la perte des allocations. L'ONEM ne peut décider de votre droit à des allocations que si votre dossier est complet. Ce n'est qu'après approbation de l'ONEM que la CAPAC vous paiera. Votre inscription en tant que demandeur d'emploi Vous ne devez pas vous réinscrire.\""
      ]
     },
     "execution_count": 25,
     "metadata": {},
     "output_type": "execute_result"
    }
   ],
   "source": [
    "line_2 = remove_n(line)\n",
    "line_2"
   ]
  },
  {
   "cell_type": "code",
   "execution_count": 26,
   "metadata": {},
   "outputs": [
    {
     "data": {
      "application/vnd.jupyter.widget-view+json": {
       "model_id": "aa4b93b6c6ed4921a990330a8f634a4b",
       "version_major": 2,
       "version_minor": 0
      },
      "text/plain": [
       "Downloading (…)lve/main/config.json:   0%|          | 0.00/1.47k [00:00<?, ?B/s]"
      ]
     },
     "metadata": {},
     "output_type": "display_data"
    },
    {
     "data": {
      "application/vnd.jupyter.widget-view+json": {
       "model_id": "95fede17ffb54db9af26c06cd579a9ff",
       "version_major": 2,
       "version_minor": 0
      },
      "text/plain": [
       "Downloading pytorch_model.bin:   0%|          | 0.00/864M [00:00<?, ?B/s]"
      ]
     },
     "metadata": {},
     "output_type": "display_data"
    },
    {
     "data": {
      "application/vnd.jupyter.widget-view+json": {
       "model_id": "f83ec24c5fed4a5ea0c3bbea93bae7d9",
       "version_major": 2,
       "version_minor": 0
      },
      "text/plain": [
       "Downloading (…)tencepiece.bpe.model:   0%|          | 0.00/1.12M [00:00<?, ?B/s]"
      ]
     },
     "metadata": {},
     "output_type": "display_data"
    },
    {
     "data": {
      "application/vnd.jupyter.widget-view+json": {
       "model_id": "58dbd18f4ba54fcf84c9996162922f99",
       "version_major": 2,
       "version_minor": 0
      },
      "text/plain": [
       "Downloading (…)/main/tokenizer.json:   0%|          | 0.00/2.63M [00:00<?, ?B/s]"
      ]
     },
     "metadata": {},
     "output_type": "display_data"
    }
   ],
   "source": [
    "summarizer_fr = pipeline(\"summarization\",\n",
    "                         model=\"moussaKam/barthez-orangesum-title\")"
   ]
  },
  {
   "cell_type": "code",
   "execution_count": 29,
   "metadata": {},
   "outputs": [
    {
     "data": {
      "text/plain": [
       "[{'summary_text': \"Demande d'allocations : la CAPAC reçoit votre courrier le 28/12/2022\"}]"
      ]
     },
     "execution_count": 29,
     "metadata": {},
     "output_type": "execute_result"
    }
   ],
   "source": [
    "summarizer_fr(line_2, max_length=200)"
   ]
  }
 ],
 "metadata": {
  "kernelspec": {
   "display_name": "tf_devia",
   "language": "python",
   "name": "python3"
  },
  "language_info": {
   "codemirror_mode": {
    "name": "ipython",
    "version": 3
   },
   "file_extension": ".py",
   "mimetype": "text/x-python",
   "name": "python",
   "nbconvert_exporter": "python",
   "pygments_lexer": "ipython3",
   "version": "3.9.0"
  },
  "orig_nbformat": 4
 },
 "nbformat": 4,
 "nbformat_minor": 2
}
