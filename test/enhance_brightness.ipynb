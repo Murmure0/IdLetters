{
 "cells": [
  {
   "cell_type": "code",
   "execution_count": 1,
   "metadata": {},
   "outputs": [],
   "source": [
    "import cv2\n",
    "import numpy as np\n",
    "\n",
    "def enhance_brightness_contrast(image, brightness_factor=1.2, contrast_factor=1.2):\n",
    "    # Augmenter la luminosité et le contraste de l'image\n",
    "    enhanced_image = cv2.convertScaleAbs(image, alpha=contrast_factor, beta=brightness_factor)\n",
    "    return enhanced_image\n",
    "\n",
    "# Charger votre image\n",
    "image_path = \"imgTest.jpg\"\n",
    "image = cv2.imread(image_path)\n",
    "\n",
    "# Appeler la fonction pour augmenter la luminosité et le contraste\n",
    "enhanced_image = enhance_brightness_contrast(image, brightness_factor=1.5, contrast_factor=1.5)\n",
    "\n",
    "# Afficher l'image originale et l'image améliorée\n",
    "cv2.imshow(\"Image originale\", image)\n",
    "cv2.imshow(\"Image améliorée\", enhanced_image)\n",
    "cv2.waitKey(0)\n",
    "cv2.destroyAllWindows()"
   ]
  }
 ],
 "metadata": {
  "kernelspec": {
   "display_name": "env_translator",
   "language": "python",
   "name": "python3"
  },
  "language_info": {
   "codemirror_mode": {
    "name": "ipython",
    "version": 3
   },
   "file_extension": ".py",
   "mimetype": "text/x-python",
   "name": "python",
   "nbconvert_exporter": "python",
   "pygments_lexer": "ipython3",
   "version": "3.9.17"
  },
  "orig_nbformat": 4
 },
 "nbformat": 4,
 "nbformat_minor": 2
}
