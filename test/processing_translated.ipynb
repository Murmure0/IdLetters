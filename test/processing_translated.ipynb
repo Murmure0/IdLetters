{
 "cells": [
  {
   "cell_type": "code",
   "execution_count": 1,
   "metadata": {},
   "outputs": [],
   "source": [
    "import numpy as np\n",
    "txt = \"Clover, also called trefoil, are plants of the genus Trifolium (from Latin tres 'three' + folium 'leaf'), consisting of about 300 species of flowering plants in the legume family Fabaceae originating in Europe. The genus has a cosmopolitan distribution with highest diversity in the temperate Northern Hemisphere, but many species also occur in South America and Africa, including at high altitudes on mountains in the tropics. They are small annual, biennial, or short-lived perennial herbaceous plants, typically growing up to 30 centimetres (12 in) tall. The leaves are trifoliate (rarely quatrefoiled; see four-leaf clover), monofoliate, bifoliolate, quinquefoliolate, hexafoliolate, septafoliolate, etcetera, with stipules adnate to the leaf-stalk, and heads or dense spikes of small red, purple, white, or yellow flowers; the small, few-seeded pods are enclosed in the calyx.[3] Other closely related genera often called clovers include Melilotus (sweet clover) and Medicago (alfalfa or Calvary clover).\"\n",
    "\n",
    "def proc_txt(txt):\n",
    "    return txt.replace(\".\", \".\\n\")"
   ]
  },
  {
   "cell_type": "code",
   "execution_count": 2,
   "metadata": {},
   "outputs": [
    {
     "data": {
      "text/plain": [
       "\"Clover, also called trefoil, are plants of the genus Trifolium (from Latin tres 'three' + folium 'leaf'), consisting of about 300 species of flowering plants in the legume family Fabaceae originating in Europe.\\n The genus has a cosmopolitan distribution with highest diversity in the temperate Northern Hemisphere, but many species also occur in South America and Africa, including at high altitudes on mountains in the tropics.\\n They are small annual, biennial, or short-lived perennial herbaceous plants, typically growing up to 30 centimetres (12 in) tall.\\n The leaves are trifoliate (rarely quatrefoiled; see four-leaf clover), monofoliate, bifoliolate, quinquefoliolate, hexafoliolate, septafoliolate, etcetera, with stipules adnate to the leaf-stalk, and heads or dense spikes of small red, purple, white, or yellow flowers; the small, few-seeded pods are enclosed in the calyx.\\n[3] Other closely related genera often called clovers include Melilotus (sweet clover) and Medicago (alfalfa or Calvary clover).\\n\""
      ]
     },
     "execution_count": 2,
     "metadata": {},
     "output_type": "execute_result"
    }
   ],
   "source": [
    "proc_txt(txt)"
   ]
  }
 ],
 "metadata": {
  "kernelspec": {
   "display_name": "algos_ml",
   "language": "python",
   "name": "python3"
  },
  "language_info": {
   "codemirror_mode": {
    "name": "ipython",
    "version": 3
   },
   "file_extension": ".py",
   "mimetype": "text/x-python",
   "name": "python",
   "nbconvert_exporter": "python",
   "pygments_lexer": "ipython3",
   "version": "3.11.3"
  },
  "orig_nbformat": 4
 },
 "nbformat": 4,
 "nbformat_minor": 2
}
