{
 "cells": [
  {
   "cell_type": "code",
   "execution_count": 5,
   "metadata": {},
   "outputs": [],
   "source": [
    "txt = \"\"\"Your entitlement to benefits as a full-time, voluntary part-time worker By this letter, we inform you of your entitlement to benefits as a full-time, voluntary part-time worker, following your application or declaration of an amending event, taking place on 27/02/23.\n",
    "As of 09/03/2023, we have received the decision of the ONEm.\n",
    "What is the amount of my allowance? The daily amount of your half-time allowance amounts to: From 27/02/23, 25.\n",
    "72 euros.\n",
    "The amount is normally granted for all days of the week, except Sundays.\n",
    "Your entitlement ends on 30/08/2023 Your entitlement has been established taking into account your isolated family situation.\n",
    "Contact us as soon as possible if it changes.\n",
    "Any change of personal or professional status or that of a member of your family must be spontaneously and immediately notified to CAPAC.\n",
    "You are in principle entitled to 7 half-allocations per week: you are entitled to 2 half-allocation(s) for Mondays, 1 half-allocation(s) for Tuesdays, 1 half-allocation(s) for Wednesdays, 1 half-allocation(s) for Thursdays, 1 half-allocation(s) for Fridays and 1 half-allocation(s) for Saturdays.\n",
    "In the event of a return to work, however, the number of allowances will be fixed on a monthly basis.\n",
    "Can these amounts still change? These amounts can change after an indexation, a change in your family situation, a return to work, a change in regulations.\n",
    ".\n",
    ".\n",
    "Are deductions made? A professional discount of 10.\n",
    "09% can be withheld according to your family situation.\n",
    "1/2 How do I get my allowances? Enter your control card with CAPAC at the end of the month.\n",
    "The amount of allowances for one month depends on the compliance with the conditions of grant described on the control card.\n",
    "More information For more information about your rights and obligations and the events that influence your status, please consult the information document available on the site of the ONEm (www.\n",
    "onem.\n",
    "be, info sheets T31 and 39).\n",
    "Further information on this letter can be obtained from the CAPAC in Brussels (see address at the top of this letter).\n",
    "You can also find information on the Internet sites of the ONEm (www.\n",
    "onem.\n",
    "be) and CAPAC (www.\n",
    "hvw-capac.\n",
    "fgov.\n",
    "be).\n",
    "1 Regardably, For CAPAC For ONEm What to do if I do not agree with the decision of the ONEm? First of all, ask your CAPAC office.\n",
    "If you still disagree with the ONEm decision after that, you can appeal to the Labour Court by sending a written application by registered mail or by filing it directly with the Labour Court Registry PLACE POELAERT BTE 3 1000 BRUSSELS.\n",
    "From the date of notification of this decision, you have 3 months to file this application.\n",
    "Do not forget to mention your NISS number and the date of the application, to sign and date your application.\n",
    "You have the possibility to appear personally in court or to be represented by a lawyer, a union representative your spouse, or certain parents or allies if they are approved by the judge.\n",
    "In principle, you do not have to bear the costs of the trial.\n",
    "How do you retain your right to benefits if you file an appeal? To allow for any subsequent compensation, you must comply with all the conditions of granting during the entire period of the appeal procedure.\n",
    "In particular, you must be and remain registered as a jobseeker (unless you have an exemption).\n",
    "You must also continue to complete and keep your paper control cards.\n",
    "If you use the electronic control card, you must continue to complete and confirm it.\n",
    "If you are correct by the Labour Court, you must enter your control card(s) with CAPAC (unless you have already done so).\n",
    "The allowances will then be paid to you for this period(s).\n",
    "1 The main legal provisions applicable are found in the Royal Decree of 25.\n",
    "11.\n",
    "1991 and the Ministerial Decree of 26.\n",
    "11.\n",
    "1991 regulating unemployment.\n",
    "For all practical information, browse www.\n",
    "capac.\n",
    "fgov.\n",
    "Be.\n",
    "In your online folder \"My CAPAC file\" you will find information about your file and your latest payment you can change your contact details you can request and print certificates 2/2.\"\"\""
   ]
  },
  {
   "cell_type": "code",
   "execution_count": 1,
   "metadata": {},
   "outputs": [],
   "source": [
    "from reportlab.pdfgen import canvas\n",
    " \n",
    " \n",
    "def create_pdf():\n",
    "    pdf_file = 'multipage.pdf'\n",
    " \n",
    "    can = canvas.Canvas(pdf_file)\n",
    " \n",
    "    can.drawString(20, 800, \"First Page\")\n",
    "    can.showPage()\n",
    " \n",
    "    can.drawString(20, 800, \"Second Page\")\n",
    "    can.showPage()\n",
    " \n",
    "    can.drawString(20, 700, \"Third Page\")\n",
    "    can.showPage()\n",
    " \n",
    "    can.save()\n",
    " \n",
    "create_pdf()"
   ]
  },
  {
   "cell_type": "code",
   "execution_count": 2,
   "metadata": {},
   "outputs": [],
   "source": [
    "# Creating PDF\n",
    "from reportlab.lib.pagesizes import letter\n",
    "from reportlab.pdfgen import canvas\n",
    "from io import BytesIO\n",
    "from reportlab.lib.styles import getSampleStyleSheet\n",
    "from reportlab.platypus import Paragraph\n"
   ]
  },
  {
   "cell_type": "code",
   "execution_count": 3,
   "metadata": {},
   "outputs": [],
   "source": [
    "def generate_pdf_content(text):\n",
    "    buffer = BytesIO()\n",
    "    c = canvas.Canvas(buffer, pagesize=letter)\n",
    "    c.setFont('Helvetica', 12)\n",
    "\n",
    "    styles = getSampleStyleSheet()\n",
    "    style = styles['Normal']\n",
    "\n",
    "    # Create a Paragraph object with the text\n",
    "    paragraph = Paragraph(text, style)\n",
    "\n",
    "    # Draw the Paragraph on the canvas\n",
    "    paragraph.wrapOn(c, 400, 800)\n",
    "    _, height = paragraph.wrap(400, 800)\n",
    "    paragraph.drawOn(c, 100, 800 - height-75)\n",
    "\n",
    "    c.save()\n",
    "    buffer.seek(0)\n",
    "    return buffer.getvalue()"
   ]
  },
  {
   "cell_type": "code",
   "execution_count": null,
   "metadata": {},
   "outputs": [],
   "source": [
    "generate_pdf_content(txt)"
   ]
  },
  {
   "cell_type": "code",
   "execution_count": 6,
   "metadata": {},
   "outputs": [],
   "source": [
    "from reportlab.lib.pagesizes import letter\n",
    "from reportlab.lib.styles import getSampleStyleSheet\n",
    "from reportlab.lib.units import inch\n",
    "from reportlab.lib import colors\n",
    "from reportlab.platypus import SimpleDocTemplate, Paragraph, Spacer\n",
    "from io import BytesIO\n",
    "\n",
    "def generate_pdf_content(text):\n",
    "    buffer = BytesIO()\n",
    "    doc = SimpleDocTemplate(buffer, pagesize=letter)\n",
    "\n",
    "    styles = getSampleStyleSheet()\n",
    "    style = styles['Normal']\n",
    "\n",
    "    paragraphs = []\n",
    "    text_list = text.split(\"\\n\")  # Split text into paragraphs by newline\n",
    "\n",
    "    for para_text in text_list:\n",
    "        paragraph = Paragraph(para_text, style)\n",
    "        paragraphs.append(paragraph)\n",
    "        paragraphs.append(Spacer(1, 0.2 * inch))  # Add some space between paragraphs\n",
    "\n",
    "    doc.build(paragraphs)\n",
    "    buffer.seek(0)\n",
    "    return buffer.getvalue()\n",
    "\n",
    "# Example usage\n",
    "long_text = txt  # Create a long text with multiple paragraphs\n",
    "pdf_content = generate_pdf_content(long_text)\n"
   ]
  },
  {
   "cell_type": "code",
   "execution_count": 8,
   "metadata": {},
   "outputs": [
    {
     "data": {
      "text/plain": [
       "b'%PDF-1.4\\n%\\x93\\x8c\\x8b\\x9e ReportLab Generated PDF document http://www.reportlab.com\\n1 0 obj\\n<<\\n/F1 2 0 R\\n>>\\nendobj\\n2 0 obj\\n<<\\n/BaseFont /Helvetica /Encoding /WinAnsiEncoding /Name /F1 /Subtype /Type1 /Type /Font\\n>>\\nendobj\\n3 0 obj\\n<<\\n/Contents 9 0 R /MediaBox [ 0 0 612 792 ] /Parent 8 0 R /Resources <<\\n/Font 1 0 R /ProcSet [ /PDF /Text /ImageB /ImageC /ImageI ]\\n>> /Rotate 0 /Trans <<\\n\\n>> \\n  /Type /Page\\n>>\\nendobj\\n4 0 obj\\n<<\\n/Contents 10 0 R /MediaBox [ 0 0 612 792 ] /Parent 8 0 R /Resources <<\\n/Font 1 0 R /ProcSet [ /PDF /Text /ImageB /ImageC /ImageI ]\\n>> /Rotate 0 /Trans <<\\n\\n>> \\n  /Type /Page\\n>>\\nendobj\\n5 0 obj\\n<<\\n/Contents 11 0 R /MediaBox [ 0 0 612 792 ] /Parent 8 0 R /Resources <<\\n/Font 1 0 R /ProcSet [ /PDF /Text /ImageB /ImageC /ImageI ]\\n>> /Rotate 0 /Trans <<\\n\\n>> \\n  /Type /Page\\n>>\\nendobj\\n6 0 obj\\n<<\\n/PageMode /UseNone /Pages 8 0 R /Type /Catalog\\n>>\\nendobj\\n7 0 obj\\n<<\\n/Author (\\\\(anonymous\\\\)) /CreationDate (D:20230821131948-01\\'00\\') /Creator (\\\\(unspecified\\\\)) /Keywords () /ModDate (D:20230821131948-01\\'00\\') /Producer (ReportLab PDF Library - www.reportlab.com) \\n  /Subject (\\\\(unspecified\\\\)) /Title (\\\\(anonymous\\\\)) /Trapped /False\\n>>\\nendobj\\n8 0 obj\\n<<\\n/Count 3 /Kids [ 3 0 R 4 0 R 5 0 R ] /Type /Pages\\n>>\\nendobj\\n9 0 obj\\n<<\\n/Filter [ /ASCII85Decode /FlateDecode ] /Length 1557\\n>>\\nstream\\nGatm;gQ(#H&:NH>R$RldKka8FI*51@/9]D@:\"gcmJcbg999dDu7&hMDYQ)=(8lfauQ5cOeXpn7@bab)BAf-&ZT>5k&-,>9QVU#8G\"QBiABG*W/)a))`s4deFbf(4Wpn*d1k.<@U]u+DI[hG/s>W1@3DB!%D\\\\c5=R$CEO&\\'Wf5[0G69;Y`\\'M1\\'`T;VMrGPj9BO&c(:>hq*MB.L\\\\3\\\\b?ou[tr3.T,]L4U;\\\\PQuO>>\\\\$`tE0)ruliH+\\\\+oWAI&-\\'t,*b;Q)jIV8]\\\\1MDp\\'g/1E9*%q5a/(=9W+q)DTE6O5RbD=hLW=aLkc9-3$CWZa=_\\'8[acqIBiuSKuTD1DOHQGrE(@KB9=jW+7%7>%Jf%M&*YGQb.,sDVUIQ?4=:b6%&a&5<l!BS,@l\\\\U&hrUWrJChC2EO?PIQYSk2fAe=Xhq),&S0Zs*.>\"Xa525ND8[BZAK@IGAJL/M=t:1h!Ajg<*t&9bD7.Cc(!#L?#.?/1H;n:8^e?(A$_P@]f5ZfQQi9Sd!c(BdjBU`M^@6\\'-^^B?pHfr5[*A^S-M:$7$&^FF^Kf_I2Ge72@T\\\\oq7A.h_Xuk!IIIAA`-35m(6\\\\iUV:i@OYL#.SRs\"<[&$O]:]7+_@/+V7NniJF-@fet2[.gD:$RI[>bDAL,]OCJ>j9[eCKXI=!\\\\J7]Bl7ZUk$_p$75$`teSGXU+!kYu@\\\\@lGV\\'UGF^Qm<;D[P\")%(Lj6Vddi(K+KVe?91Q^`@*dM`M#HHk!d7RQ@]l#Io%S^0l=<\"T+Q$p[c=Tsr3\\\\9c,qCo&gIH.in<UI?(o7^k?!5b_PI7iH(+JaYA1>Q\\\\i3SN\"BAA5=_W1KRp#E:J&a:TVjPM0He]J%pfeS3:EfohuA\\'nnY1MP5bNYS%\\\\/nbWTUWtr&Q0deb\"ls^?bIr@MYl*eeq\\'7!24>cEY>_m0mDbg/O;K7%eGA`r&lLq+$ME?s)JJspL\"k,cn</beH066#lPfS7e::OQVD,O1b1dbC\\'D+XIEQ[=+<Q/0_!oeA\\\\C@\\\\I5V;$Jrf1B*\"?ZS[=J\\'/[a7gec76pbVB&KJ4<3]LV8\"dGG:u2V,<kN33AV]M!3e92h9fG@\\\\;s/lME*io6XJm9<9G1\\\\J?o4g,*ue&@2]l_6uD@44[]5)-m%I2kGon(0\\\\->RbK*LpP/HlBN2A-Y%IR[B_Ac=so;SPVgA+Y0XL5jZ5DF3IsD2?*rrE\\'FEr4#j&7=Eg_W/fQ38>X@QV+<N`mOr&>Gbs&M&bl&A[#s1!3fPeaJC&#k5CY[usu8_!4f8Q[/r\\',.1GP\"6Xo;WgYN9E7_N;[aAH[d.pD+7p[8<qsl.`JqV0$IRn?7e]<.XH#p#RY4gA*IAoEB-L!]N49)Dq9t;]XeSH5gr]54-^PO<.)\\'CPXe\"651@4J2^VLGtE=MmpWK%e(k0EUXI[6=QF<g+K;$4eH\\\\S3OR`3+\"4(0^Ujah;Tg%c!bV)1lmX(MpYr%kh=LC?N12M^J(oB;RG`>pDpbGe\\'KUnS5nWgh*HC,\\'^ZUn+X`(\"oXdBi+=XjM]*qZn3-,1.32J]2g@\\'ca8iZq%)Iq@^u6<:?61`$J@g:3jKs$`~>endstream\\nendobj\\n10 0 obj\\n<<\\n/Filter [ /ASCII85Decode /FlateDecode ] /Length 1612\\n>>\\nstream\\nGat=+hbW8l&:WfGQq\\'-@]d->Kj(S[5d352h(4&$D`/C*Y>!lb3D22HtqjVRr.1jq&!k\":Lp<7p`k*npJ!W@`O1G&XQkO@YG#[ml-*5Zq3_u(Ebo:t25iNqWj!i,\"%0I$+`T5W<$8[JEn..F9LGshml>9>\"/=#LNimi^WMO\"Y;/<bOau>anVNW>3dp>=f2+3_,6/TjWGE(J[MT)<=8RA:SW=G&qgm45nuEem`(Hrn&EHa>/D!JoKSjl08E6%l\"\"cNci\\'_o_ln)I6r5YI$`;1*(4)C`m\\\\PuUKjS><.F/dk9:86+dX[*T/=EMU::muYgT3K+\"tKln$A1?>HcZW!>\"5,Uat@OC=YTcYZ=m\"q[4ahP5\"s=l)7bbSA,6aT7A%hRZ$!oD_gRgSn&gghY6;Lr?W2D8GaDS8LOD!GhC@ADQ!;.5P=o3VO\\\\,h_XScXA:XRU\"]6Xuipih:5i\\'uh,o?bnSA9L]a!\\'6t;OC-/MTmSTC@chrr6*RdT,#tYL.m6DiJPC8Fs***8pW)Fb#^oaWO0BG?7Otc>Y8L3RonVId;r/!V]b=NCinLEds3QElieOR`LX)jUWFQXO$3\\\\T4IJ)]>icq7==9\".125XAkE4EZ.!!m\\'8&1Yk?!][o$:VcrZ2M(4ptY)N_.!K^<@66/`+q\\'X7ZuX(c%Sh1_\\'*TH952KOM/\"JM!H]\\'`R`g;DOH/<VR(?bu\\'&P3h[sksB^s2Q*`GDT[2a:p+B=$>Q23\\\\se$&]pVo@q%KmUk\\'prP42ZYQkCerNbf&R;g5P+Y(UH9tfoq/^Os</+J9,DlK\"+=U(7D^rC<u\\\\)%OJPB!Ka$qG[:iIgRnXf2?d&khl9;53V!GXd1t]\"8&EQO=uDbN<]Vr-KgV;r2?P;L(WJ`(+Y4m!gB\"G72hQ9)8_UK*6\\\\3\\\\9#<J[T5#:I;Zs]HDVX[crdEKQ8dUa;pRQM.N-T0@\\'HA+:S88QM7N`qZ/2.IZA2U\\\\1>;r@L6U^sP<@Jif+q0XZkNsF(JkE*2O9]NUSJAN4dL2snUMPVe@=Lg+6m[qY9h(?kS2N[\\\\joT/BmiD^)Q?V;(\"eWA=X>!q)%pA*BW8FX4$GVK7F<&e2!NT(-pC2nNrROC%ZM\\\\ik`POo)nB4a-;K9*F<4aHnticp\\\\$%L;N\\'A>Go1^VG[X)BPG>4FQVSTj4,bq<cePqkM.f2n_5-h8l\"(#m<M[k,hL,>(\\\\4?cC_W2)uQZJ+da>B#_PFVFABc??4E6@5i87#)Ij@m:9o@4/G0!P3I9.I(GI(W,P\"\\\\NjNS#\"us^8(Rp$(Hc@4%j+@imZ2-`n8,`P49?Q\\'`Nir<p.P]gd&h3EFO0=RnN?/jpB*/+$=-$d=mU&9?\\'E_^@b%]\\\\&f&.kOJ1&*2+*S\\\\hKZq0p\\\\Z(m%[u:I>;o,C6^!%IUX;]2Y<mP(^(4,9#IuZ;[FkKRPO<ES*!V0l@r2:KA>qKBg05`TD<j7iYcaE!qqVtN/W0gU?W6?frkb\\\\;i\\\\p-Q%#Sjg>+cG.hF\"M$*-J8X(rV3B:X$@a=[e!98]fSi&HMhh=UCMd]m0)+G/A+1.<qIkDk,:L,KTBUH6*..k\\\\IW\"l*p`]07G2\"c5[3-7_5j0fD^cWhq,!eORY8\\'H$CT_U@.n*?9%clRZ^$k~>endstream\\nendobj\\n11 0 obj\\n<<\\n/Filter [ /ASCII85Decode /FlateDecode ] /Length 514\\n>>\\nstream\\nGatn\"@;DDf\\'SaC\".pi(O)oJ+$HM(e&XY<jc\"ogiVHaFZZG]Vp+rqf,ia4Ptt)+)-ViI0U)nq8.o+\\'VLj\"8=Zj*Z5ebh11>]T`0O=F`L+,cd\"n7U8lWcZmX1LeB>a55:+u\\\\F_q`ofe8DZg9:A+U<dKFCW=eHW5#$T5<D%.V0]XGH-EBuC],@2Wes*2,Q\\'(N8K3*OjL\":COd%)BD8;(s5b^fm=J/m\\'f)P464:AV0EQcM4^12O\\\\mFY\"69oICq5BQVIPOY,&ng]qL06^[;UNMZ(LVZRD[0jOtVQm97M6-N\\'(MBX%@@F(\\\\5fFm=@@lY/-rb5KC>2Rh.#9mep41f&pA;9?\\'2d\\'GN:5`lSi5Cm=[kCbL\"POHM5]6CK8U`jXQd)81q#K/_q!3>%sMCL*mj,2Y3$Kn3j?upn0EM$!:n*hI[-:)QRBEC\"`W_m1!#(%[umh+,pa#MX#)E1Xi_P(&AsXCeD2!\\\\4cW:tX>+K#:)a^4cKcg](pq+tq\"C`YCg@a<+%jI6Oo~>endstream\\nendobj\\nxref\\n0 12\\n0000000000 65535 f \\n0000000073 00000 n \\n0000000104 00000 n \\n0000000211 00000 n \\n0000000404 00000 n \\n0000000598 00000 n \\n0000000792 00000 n \\n0000000860 00000 n \\n0000001143 00000 n \\n0000001214 00000 n \\n0000002862 00000 n \\n0000004566 00000 n \\ntrailer\\n<<\\n/ID \\n[<06c0a1b235ff987c1cf97c1e88117d36><06c0a1b235ff987c1cf97c1e88117d36>]\\n% ReportLab generated PDF document -- digest (http://www.reportlab.com)\\n\\n/Info 7 0 R\\n/Root 6 0 R\\n/Size 12\\n>>\\nstartxref\\n5171\\n%%EOF\\n'"
      ]
     },
     "metadata": {},
     "output_type": "display_data"
    }
   ],
   "source": [
    "display(pdf_content)"
   ]
  }
 ],
 "metadata": {
  "kernelspec": {
   "display_name": "env_translator",
   "language": "python",
   "name": "python3"
  },
  "language_info": {
   "codemirror_mode": {
    "name": "ipython",
    "version": 3
   },
   "file_extension": ".py",
   "mimetype": "text/x-python",
   "name": "python",
   "nbconvert_exporter": "python",
   "pygments_lexer": "ipython3",
   "version": "3.9.17"
  },
  "orig_nbformat": 4
 },
 "nbformat": 4,
 "nbformat_minor": 2
}
